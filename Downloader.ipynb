{
 "cells": [
  {
   "cell_type": "code",
   "execution_count": 2,
   "metadata": {},
   "outputs": [
    {
     "name": "stdout",
     "output_type": "stream",
     "text": [
      "Requirement already satisfied: instaloader in c:\\users\\rahil\\anaconda3\\lib\\site-packages (4.7.1)\n",
      "Requirement already satisfied: requests>=2.4 in c:\\users\\rahil\\anaconda3\\lib\\site-packages (from instaloader) (2.24.0)\n",
      "Requirement already satisfied: certifi>=2017.4.17 in c:\\users\\rahil\\anaconda3\\lib\\site-packages (from requests>=2.4->instaloader) (2020.6.20)\n",
      "Requirement already satisfied: idna<3,>=2.5 in c:\\users\\rahil\\anaconda3\\lib\\site-packages (from requests>=2.4->instaloader) (2.10)\n",
      "Requirement already satisfied: urllib3!=1.25.0,!=1.25.1,<1.26,>=1.21.1 in c:\\users\\rahil\\anaconda3\\lib\\site-packages (from requests>=2.4->instaloader) (1.25.9)\n",
      "Requirement already satisfied: chardet<4,>=3.0.2 in c:\\users\\rahil\\anaconda3\\lib\\site-packages (from requests>=2.4->instaloader) (3.0.4)\n",
      "Note: you may need to restart the kernel to use updated packages.\n"
     ]
    }
   ],
   "source": [
    "pip install instaloader"
   ]
  },
  {
   "cell_type": "code",
   "execution_count": 4,
   "metadata": {},
   "outputs": [
    {
     "name": "stdout",
     "output_type": "stream",
     "text": [
      "Enter User Name:instagram\n",
      "Stored ID 25025320 for profile instagram.\n",
      "instagram\\2020-09-16_04-08-58_UTC_profile_pic.jpg \n"
     ]
    }
   ],
   "source": [
    "#import instaloader library\n",
    "\n",
    "import instaloader as il\n",
    "ig =  il.Instaloader()\n",
    "dp = input(\"Enter User Name:\")\n",
    "ig.download_profile(dp,profile_pic_only = True)\n",
    "\n",
    "#after the succesfull execution of the program folder with username will be created with display picture of instagram\n"
   ]
  }
 ],
 "metadata": {
  "kernelspec": {
   "display_name": "Python 3",
   "language": "python",
   "name": "python3"
  },
  "language_info": {
   "codemirror_mode": {
    "name": "ipython",
    "version": 3
   },
   "file_extension": ".py",
   "mimetype": "text/x-python",
   "name": "python",
   "nbconvert_exporter": "python",
   "pygments_lexer": "ipython3",
   "version": "3.8.3"
  }
 },
 "nbformat": 4,
 "nbformat_minor": 4
}
